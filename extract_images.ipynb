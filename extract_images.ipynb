{
 "cells": [
  {
   "cell_type": "code",
   "execution_count": 1,
   "metadata": {},
   "outputs": [],
   "source": [
    "import tarfile\n",
    "\n",
    "# Extract from archive\n",
    "with tarfile.open('./oxford-102-flowers.tgz', 'r:gz') as tar:\n",
    "    tar.extractall(path='./data')"
   ]
  }
 ],
 "metadata": {
  "kernelspec": {
   "display_name": "pikachu",
   "language": "python",
   "name": "python3"
  },
  "language_info": {
   "codemirror_mode": {
    "name": "ipython",
    "version": 3
   },
   "file_extension": ".py",
   "mimetype": "text/x-python",
   "name": "python",
   "nbconvert_exporter": "python",
   "pygments_lexer": "ipython3",
   "version": "3.10.8 (main, Nov 24 2022, 14:13:03) [GCC 11.2.0]"
  },
  "orig_nbformat": 4,
  "vscode": {
   "interpreter": {
    "hash": "f75a2609860cb4c28ffc0efc1d401a6008078c30b2f170e446f580db4e5b2812"
   }
  }
 },
 "nbformat": 4,
 "nbformat_minor": 2
}
